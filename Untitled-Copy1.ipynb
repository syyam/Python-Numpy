{
 "cells": [
  {
   "cell_type": "markdown",
   "metadata": {},
   "source": [
    "# Table of Contents\n",
    "\n",
    "### 1. Introduction\n",
    "    1.1 Python’s main advantages\n",
    "    1.2 Python’s uses\n",
    "### 2. Data Types\n",
    "    2.1 Variables\n",
    "    2.2 Numbers\n",
    "    2.3 Strings\n",
    "    2.4 Lists\n",
    "    2.5 Dictionaries\n",
    "    2.6 Tuples\n",
    "    2.7 Sets\n",
    "### 3. Comparison Operators\n",
    "### 4. If-Else Statements\n",
    "### 5. For & While Loop\n",
    "### 6. Functions\n",
    "### 7. Lambda Functions\n",
    "    7.1 Map()\n",
    "    7.2 filter()\n",
    "### 8. File I/O\n",
    "    8.1 Reading input from Keyboard\n",
    "    8.2 I/O from or to Text File\n",
    "    8.3 File Position\n",
    "### 9. Pandas Library Introduction\n",
    "### 10. Series\n",
    "    10.1 From ndarray\n",
    "    10.2 From dict\n",
    "    10.3 From a Scalar value\n",
    "    10.4 Series is ndarray-like\n",
    "    10.5 Series is dict-like\n",
    "    10.6 Vectorized operations and label alignment with Series\n",
    "    10.7 Name Attribute\n",
    "### 11. Data Frames\n",
    "    11.1 From dict of Series or dicts\n",
    "    11.2 From dict of ndarrays / lists\n",
    "    11.3 From a list of dicts\n",
    "    11.4 From a dict of tuples\n",
    "    11.5 Alternate Constructors\n",
    "    11.6 Column selection, addition, deletion\n",
    "    11.7 Indexing / Selection\n",
    "    11.8 Data alignment and arithmetic\n",
    "    11.9 Transposing\n",
    "    \n",
    "### 12. Viewing Data"
   ]
  },
  {
   "cell_type": "markdown",
   "metadata": {},
   "source": [
    "\n",
    "\n",
    "\n",
    "## 1. Introduction\n",
    "Python is a very strong high-level, object-oriented programming language which is created by Guido van Rossum. It has simple easy-to-use syntax, making it the perfect language for someone trying to learn computer programming for the first time.\n",
    "Over the past few years, Python has played an important role in modern software development, infrastructure management, and data analysis. It is helping a lot in big data analytics and machine intelligence.\n",
    "\n",
    "### 1.1 Python’s main advantages\n",
    "Python has various advantages over other programming languages, some of them are mentioned below:\n",
    "#### Easy to learn, easy to use\n",
    "Python’s syntax is designed to be readable and straightforward. It takes a very little time to learn irrespective of what kind of a person is learning the syntax, the syntax is algorithm oriented and has been designed in such a way that even a non-techie can get his head around it in seconds. This language is perfect for anyone who wants to start computer programming, that’s the reason this language is taught in many institutions as a go to programming language, it is not only just easy to learn but also covers every aspect of what a computer programming language has to offer. It is designed so that programmers spend more time thinking about the actual problem they are trying to solve rather thinking about language complexities. A standard “hello world” in Python 3.x is nothing more than:\n",
    "\n",
    "\n",
    "\n"
   ]
  },
  {
   "cell_type": "code",
   "execution_count": 11,
   "metadata": {},
   "outputs": [
    {
     "name": "stdout",
     "output_type": "stream",
     "text": [
      "Hello World\n"
     ]
    }
   ],
   "source": [
    "print(\"Hello World\")"
   ]
  },
  {
   "cell_type": "markdown",
   "metadata": {},
   "source": [
    "#### A professional Language\n",
    "Although a lot of people are using this language as a scripting language and automation but it has major uses as well. Python is also used for building professional-quality software, both as standalone applications and as web services. It is being used as a go to tool in machine learning and data science, Python is not a toy it is easy to learn but hard to master, one can perform very complex tasks using this language.\n",
    "#### Python’s community\n",
    "There are loads of reasons why people fall in love with Python. Python is both popular and widely used, as we can see in different surveys, many sources accept Python as the 2nd most popular language of 2018. Python runs on every major operating system and platform, and most minor ones too. Many major libraries and API-powered services have Python bindings or wrappers.\n",
    "#### Amazing Libraries\n",
    "Whatever project you are doing, whatever module you need, be it on image processing, or natural language processing, or web scraping, virtually anything, and Python has it all covered. These libraries come with excellent documentation, so that you will find it painless to use.\n",
    "\n",
    "### 1.2 Python’s uses\n",
    "The most basic use case for Python is as a scripting and automation language. But nowadays many people are using python as a machine learning tool.\n",
    "#### General Application\n",
    "You can create both command-line and cross-platform GUI applications with Python with ease, you just need third-party packages like “cx_Freeze” and “PyInstaller” to generate a standalone binary from a script.\n",
    "#### Data science and machine learning\n",
    "Data analysis has become one of fastest-moving areas of IT and one of Python’s star uses. The majority of the libraries used for data science or machine learning have Python interfaces, making the language the most popular high-level command interface for machine learning and data science libraries.\n"
   ]
  },
  {
   "cell_type": "markdown",
   "metadata": {},
   "source": [
    "## 2. Data Types\n",
    "\n",
    "Python is a completely object oriented programming paradigm, it is not \"statically typed\". You do not need to declare variables before using them, or declare their type. Every variable in Python is an object. Python sets the variable type according to the value that is assigned to it. \n",
    "Following are some of the data types that are used in Python:\n",
    "\n",
    "\n",
    "### 2.1 Variables\n",
    "In Python variables are used to store data. We also use variables to access data as well as operate data. A variable is called so because its value can be changed. To create a variable in Python we use assignment statement which has the following format."
   ]
  },
  {
   "cell_type": "code",
   "execution_count": 32,
   "metadata": {},
   "outputs": [
    {
     "data": {
      "text/plain": [
       "'My first Variable'"
      ]
     },
     "execution_count": 32,
     "metadata": {},
     "output_type": "execute_result"
    }
   ],
   "source": [
    "var_name=\"My first Variable\"\n",
    "var_name"
   ]
  },
  {
   "cell_type": "markdown",
   "metadata": {},
   "source": [
    "The statement above creates a variable named \"var_name\" and assigns it a value \"My first Variable\". When Python Interpreter faces statements like these it does two steps behind the scenes.\n",
    "1. Store the variable \"My first Variable\" somewhere in the memory.\n",
    "2. Make variable var_name refer to it."
   ]
  },
  {
   "cell_type": "markdown",
   "metadata": {},
   "source": [
    "#### “Why”, “When” and “Where” to use a variable?\n",
    "A variable is something that hold a value that may change, so you should always use variables when you know that you are going to change it's value. For Example:"
   ]
  },
  {
   "cell_type": "code",
   "execution_count": 33,
   "metadata": {},
   "outputs": [
    {
     "name": "stdout",
     "output_type": "stream",
     "text": [
      "5\n",
      "6\n"
     ]
    }
   ],
   "source": [
    "temp=5\n",
    "print(temp)\n",
    "temp=temp+1\n",
    "print(temp)"
   ]
  },
  {
   "cell_type": "markdown",
   "metadata": {},
   "source": [
    "You might also want to use variables when you know it's value might get changed conditionaly while processing. For Example:"
   ]
  },
  {
   "cell_type": "code",
   "execution_count": 34,
   "metadata": {},
   "outputs": [
    {
     "name": "stdout",
     "output_type": "stream",
     "text": [
      "5\n",
      "10\n"
     ]
    }
   ],
   "source": [
    "a=5\n",
    "b=10\n",
    "bigger=a\n",
    "print(bigger)\n",
    "if (a > b):\n",
    "    bigger=a\n",
    "else:\n",
    "    bigger=b\n",
    "print(bigger)\n"
   ]
  },
  {
   "cell_type": "markdown",
   "metadata": {},
   "source": [
    "You cannot change just the value of variable at runtime but can also change the data type of it. For Example"
   ]
  },
  {
   "cell_type": "code",
   "execution_count": 42,
   "metadata": {},
   "outputs": [
    {
     "data": {
      "text/plain": [
       "int"
      ]
     },
     "execution_count": 42,
     "metadata": {},
     "output_type": "execute_result"
    }
   ],
   "source": [
    "variable=\"assalam o alaikum...!!!\"\n",
    "variable=786\n",
    "type(variable)"
   ]
  },
  {
   "cell_type": "markdown",
   "metadata": {},
   "source": [
    "#### Naming a variable\n",
    "Naming a variable is not a thing to should least care about, a handsome variable name makes your code readable. A wrong variable name can also lead you towards syntax error. In python there are certain naming rules and conventions. For Example:\n",
    "1. You can only use letters from \"a-z, A-Z\", you cannot use space \" \" between variable name, you can use underscore \"_\" instead and numbers ( 0-9 ) are also allowed to create variable names.\n",
    "\n",
    "2. A variable name must begin with an underscore \"_\" a letter, it cannot be a number.\n",
    "\n",
    "3. You can't use reserved keywords to create variables names e.g. \"break\", \"if\" etc.\n",
    "\n",
    "4. Variable names are length independant.\n",
    "\n",
    "5. Python is case-sensitive language which means that TEMP and temp are two different variables.\n",
    "\n"
   ]
  },
  {
   "cell_type": "markdown",
   "metadata": {},
   "source": [
    "### 2.2 Numbers\n",
    "Number data types store numeric values. Number objects are created when you assign a numeric value to them. For example:"
   ]
  },
  {
   "cell_type": "code",
   "execution_count": 37,
   "metadata": {},
   "outputs": [
    {
     "data": {
      "text/plain": [
       "(6, 3)"
      ]
     },
     "execution_count": 37,
     "metadata": {},
     "output_type": "execute_result"
    }
   ],
   "source": [
    "num1=6\n",
    "num2=3\n",
    "num1,num2"
   ]
  },
  {
   "cell_type": "markdown",
   "metadata": {},
   "source": [
    "#### “Why”, “When” and “Where” to use a Number?\n",
    "Python supports integers, floating point numbers and complex numbers. We can use these different types of numbers at different occassions. For Example:\n",
    "1. We will use decimal when we are making a financial app that need exact decimal representation.\n",
    "2. We will use numbers when we are required simple maths calculations, or while approximation.\n",
    "3. Complex numbers can are be used while calculating electrical engineering problems like while doing Fourier transforms etc."
   ]
  },
  {
   "cell_type": "markdown",
   "metadata": {},
   "source": [
    "#### Type Conversion in Numbers\n",
    "We can convert one type of number into another. This is also known as coercion. Most of the time pyhton automatically change the number type according to the values that is assigned if it needs. But, under certain conditions we might need a specific number type (i.e hexidecimal, complex), the format can be forced into a format by using additional syntax. For example:"
   ]
  },
  {
   "cell_type": "code",
   "execution_count": 51,
   "metadata": {},
   "outputs": [
    {
     "data": {
      "text/plain": [
       "(5+0j)"
      ]
     },
     "execution_count": 51,
     "metadata": {},
     "output_type": "execute_result"
    }
   ],
   "source": [
    "a = 5\n",
    "complex(a)"
   ]
  },
  {
   "cell_type": "markdown",
   "metadata": {},
   "source": [
    "Operations like addition, subtraction coerce (convert) integer to float automatically, if one of the operand is float. For Example:"
   ]
  },
  {
   "cell_type": "code",
   "execution_count": 52,
   "metadata": {},
   "outputs": [
    {
     "data": {
      "text/plain": [
       "11.0"
      ]
     },
     "execution_count": 52,
     "metadata": {},
     "output_type": "execute_result"
    }
   ],
   "source": [
    "10+1.0"
   ]
  },
  {
   "cell_type": "markdown",
   "metadata": {},
   "source": [
    "Note:\n",
    "When converting from float to integer, the decimal part of the number gets truncated, we get the number that is closer to 0"
   ]
  },
  {
   "cell_type": "code",
   "execution_count": 55,
   "metadata": {},
   "outputs": [
    {
     "data": {
      "text/plain": [
       "1"
      ]
     },
     "execution_count": 55,
     "metadata": {},
     "output_type": "execute_result"
    }
   ],
   "source": [
    "int(1.8)"
   ]
  },
  {
   "cell_type": "code",
   "execution_count": 54,
   "metadata": {},
   "outputs": [
    {
     "data": {
      "text/plain": [
       "-4"
      ]
     },
     "execution_count": 54,
     "metadata": {},
     "output_type": "execute_result"
    }
   ],
   "source": [
    "int(-4.4)"
   ]
  }
 ],
 "metadata": {
  "kernelspec": {
   "display_name": "Python 3",
   "language": "python",
   "name": "python3"
  },
  "language_info": {
   "codemirror_mode": {
    "name": "ipython",
    "version": 3
   },
   "file_extension": ".py",
   "mimetype": "text/x-python",
   "name": "python",
   "nbconvert_exporter": "python",
   "pygments_lexer": "ipython3",
   "version": "3.6.5"
  }
 },
 "nbformat": 4,
 "nbformat_minor": 2
}
