{
 "cells": [
  {
   "cell_type": "markdown",
   "metadata": {},
   "source": [
    "# Table of Contents\n",
    "\n",
    "### 1. Introduction\n",
    "    1.1 Python’s main advantages\n",
    "    1.2 Python’s uses\n",
    "### 2. Data Types\n",
    "    2.1 Variables\n",
    "    2.2 Numbers\n",
    "    2.3 Strings\n",
    "    2.4 Lists\n",
    "    2.5 Dictionaries\n",
    "    2.6 Tuples\n",
    "    2.7 Sets\n",
    "### 3. Comparison Operators\n",
    "### 4. If-Else Statements\n",
    "### 5. For & While Loop\n",
    "### 6. Functions\n",
    "### 7. Lambda Functions\n",
    "    7.1 Map()\n",
    "    7.2 filter()\n",
    "### 8. File I/O\n",
    "    8.1 Opening a file\n",
    "    8.2 Closing a file\n",
    "    8.3 Writing to file\n",
    "    8.4 Reading a file\n",
    "    8.5 File Methods\n",
    "### 9. Pandas Library Introduction\n",
    "### 10. Series\n",
    "    10.1 From ndarray\n",
    "    10.2 From dict\n",
    "    10.3 From a Scalar value\n",
    "    10.4 Series is ndarray-like\n",
    "    10.5 Series is dict-like\n",
    "    10.6 Vectorized operations and label alignment with Series\n",
    "    10.7 Name Attribute\n",
    "### 11. Data Frames\n",
    "    11.1 From dict of Series or dicts\n",
    "    11.2 From dict of ndarrays / lists\n",
    "    11.3 From a list of dicts\n",
    "    11.4 From a dict of tuples\n",
    "    11.5 Alternate Constructors\n",
    "    11.6 Column selection, addition, deletion\n",
    "    11.7 Indexing / Selection\n",
    "    11.8 Data alignment and arithmetic\n",
    "    11.9 Transposing\n",
    "    \n",
    "### 12. Viewing Data"
   ]
  },
  {
   "cell_type": "markdown",
   "metadata": {},
   "source": [
    "\n",
    "\n",
    "\n",
    "## 1. Introduction\n",
    "Python is a very strong high-level, object-oriented programming language which is created by Guido van Rossum. It has simple easy-to-use syntax, making it the perfect language for someone trying to learn computer programming for the first time.\n",
    "Over the past few years, Python has played an important role in modern software development, infrastructure management, and data analysis. It is helping a lot in big data analytics and machine intelligence.\n",
    "\n",
    "### 1.1 Python’s main advantages\n",
    "Python has various advantages over other programming languages, some of them are mentioned below:\n",
    "#### Easy to learn, easy to use\n",
    "Python’s syntax is designed to be readable and straightforward. It takes a very little time to learn irrespective of what kind of a person is learning the syntax, the syntax is algorithm oriented and has been designed in such a way that even a non-techie can get his head around it in seconds. This language is perfect for anyone who wants to start computer programming, that’s the reason this language is taught in many institutions as a go to programming language, it is not only just easy to learn but also covers every aspect of what a computer programming language has to offer. It is designed so that programmers spend more time thinking about the actual problem they are trying to solve rather thinking about language complexities. A standard “hello world” in Python 3.x is nothing more than:\n",
    "\n",
    "\n",
    "\n"
   ]
  },
  {
   "cell_type": "code",
   "execution_count": 11,
   "metadata": {},
   "outputs": [
    {
     "name": "stdout",
     "output_type": "stream",
     "text": [
      "Hello World\n"
     ]
    }
   ],
   "source": [
    "print(\"Hello World\")"
   ]
  },
  {
   "cell_type": "markdown",
   "metadata": {},
   "source": [
    "#### A professional Language\n",
    "Although a lot of people are using this language as a scripting language and automation but it has major uses as well. Python is also used for building professional-quality software, both as standalone applications and as web services. It is being used as a go to tool in machine learning and data science, Python is not a toy it is easy to learn but hard to master, one can perform very complex tasks using this language.\n",
    "#### Python’s community\n",
    "There are loads of reasons why people fall in love with Python. Python is both popular and widely used, as we can see in different surveys, many sources accept Python as the 2nd most popular language of 2018. Python runs on every major operating system and platform, and most minor ones too. Many major libraries and API-powered services have Python bindings or wrappers.\n",
    "#### Amazing Libraries\n",
    "Whatever project you are doing, whatever module you need, be it on image processing, or natural language processing, or web scraping, virtually anything, and Python has it all covered. These libraries come with excellent documentation, so that you will find it painless to use.\n",
    "\n",
    "### 1.2 Python’s uses\n",
    "The most basic use case for Python is as a scripting and automation language. But nowadays many people are using python as a machine learning tool.\n",
    "#### General Application\n",
    "You can create both command-line and cross-platform GUI applications with Python with ease, you just need third-party packages like “cx_Freeze” and “PyInstaller” to generate a standalone binary from a script.\n",
    "#### Data science and machine learning\n",
    "Data analysis has become one of fastest-moving areas of IT and one of Python’s star uses. The majority of the libraries used for data science or machine learning have Python interfaces, making the language the most popular high-level command interface for machine learning and data science libraries.\n"
   ]
  },
  {
   "cell_type": "markdown",
   "metadata": {},
   "source": [
    "## 2. Data Types\n",
    "\n",
    "Python is a completely object oriented programming paradigm, it is not \"statically typed\". You do not need to declare variables before using them, or declare their type. Every variable in Python is an object. Python sets the variable type according to the value that is assigned to it. \n",
    "Following are some of the data types that are used in Python:\n",
    "\n",
    "\n",
    "### 2.1 Variables\n",
    "In Python variables are used to store data. We also use variables to access data as well as operate data. A variable is called so because its value can be changed. To create a variable in Python we use assignment statement which has the following format."
   ]
  },
  {
   "cell_type": "code",
   "execution_count": 32,
   "metadata": {},
   "outputs": [
    {
     "data": {
      "text/plain": [
       "'My first Variable'"
      ]
     },
     "execution_count": 32,
     "metadata": {},
     "output_type": "execute_result"
    }
   ],
   "source": [
    "var_name=\"My first Variable\"\n",
    "var_name"
   ]
  },
  {
   "cell_type": "markdown",
   "metadata": {},
   "source": [
    "The statement above creates a variable named \"var_name\" and assigns it a value \"My first Variable\". When Python Interpreter faces statements like these it does two steps behind the scenes.\n",
    "1. Store the variable \"My first Variable\" somewhere in the memory.\n",
    "2. Make variable var_name refer to it."
   ]
  },
  {
   "cell_type": "markdown",
   "metadata": {},
   "source": [
    "#### “Why”, “When” and “Where” to use a variable?\n",
    "A variable is something that hold a value that may change, so you should always use variables when you know that you are going to change it's value. For Example:"
   ]
  },
  {
   "cell_type": "code",
   "execution_count": 33,
   "metadata": {},
   "outputs": [
    {
     "name": "stdout",
     "output_type": "stream",
     "text": [
      "5\n",
      "6\n"
     ]
    }
   ],
   "source": [
    "temp=5\n",
    "print(temp)\n",
    "temp=temp+1\n",
    "print(temp)"
   ]
  },
  {
   "cell_type": "markdown",
   "metadata": {},
   "source": [
    "You might also want to use variables when you know it's value might get changed conditionaly while processing. For Example:"
   ]
  },
  {
   "cell_type": "code",
   "execution_count": 34,
   "metadata": {},
   "outputs": [
    {
     "name": "stdout",
     "output_type": "stream",
     "text": [
      "5\n",
      "10\n"
     ]
    }
   ],
   "source": [
    "a=5\n",
    "b=10\n",
    "bigger=a\n",
    "print(bigger)\n",
    "if (a > b):\n",
    "    bigger=a\n",
    "else:\n",
    "    bigger=b\n",
    "print(bigger)\n"
   ]
  },
  {
   "cell_type": "markdown",
   "metadata": {},
   "source": [
    "You cannot change just the value of variable at runtime but can also change the data type of it. For Example"
   ]
  },
  {
   "cell_type": "code",
   "execution_count": 42,
   "metadata": {},
   "outputs": [
    {
     "data": {
      "text/plain": [
       "int"
      ]
     },
     "execution_count": 42,
     "metadata": {},
     "output_type": "execute_result"
    }
   ],
   "source": [
    "variable=\"assalam o alaikum...!!!\"\n",
    "variable=786\n",
    "type(variable)"
   ]
  },
  {
   "cell_type": "markdown",
   "metadata": {},
   "source": [
    "#### Naming a variable\n",
    "Naming a variable is not a thing to should least care about, a handsome variable name makes your code readable. A wrong variable name can also lead you towards syntax error. In python there are certain naming rules and conventions. For Example:\n",
    "1. You can only use letters from \"a-z, A-Z\", you cannot use space \" \" between variable name, you can use underscore \"_\" instead and numbers ( 0-9 ) are also allowed to create variable names.\n",
    "\n",
    "2. A variable name must begin with an underscore \"_\" a letter, it cannot be a number.\n",
    "\n",
    "3. You can't use reserved keywords to create variables names e.g. \"break\", \"if\" etc.\n",
    "\n",
    "4. Variable names are length independant.\n",
    "\n",
    "5. Python is case-sensitive language which means that TEMP and temp are two different variables.\n",
    "\n"
   ]
  },
  {
   "cell_type": "markdown",
   "metadata": {},
   "source": [
    "### 2.2 Numbers\n",
    "Number data types store numeric values. Number objects are created when you assign a numeric value to them. For example:"
   ]
  },
  {
   "cell_type": "code",
   "execution_count": 37,
   "metadata": {},
   "outputs": [
    {
     "data": {
      "text/plain": [
       "(6, 3)"
      ]
     },
     "execution_count": 37,
     "metadata": {},
     "output_type": "execute_result"
    }
   ],
   "source": [
    "num1=6\n",
    "num2=3\n",
    "num1,num2"
   ]
  },
  {
   "cell_type": "markdown",
   "metadata": {},
   "source": [
    "#### “Why”, “When” and “Where” to use a Number?\n",
    "Python supports integers, floating point numbers and complex numbers. We can use these different types of numbers at different occassions. For Example:\n",
    "1. We will use decimal when we are making a financial app that need exact decimal representation.\n",
    "2. We will use numbers when we are required simple maths calculations, or while approximation.\n",
    "3. Complex numbers can are be used while calculating electrical engineering problems like while doing Fourier transforms etc."
   ]
  },
  {
   "cell_type": "markdown",
   "metadata": {},
   "source": [
    "#### Type Conversion in Numbers\n",
    "We can convert one type of number into another. This is also known as coercion. Most of the time pyhton automatically change the number type according to the values that is assigned if it needs. But, under certain conditions we might need a specific number type (i.e hexidecimal, complex), the format can be forced into a format by using additional syntax. For example:"
   ]
  },
  {
   "cell_type": "code",
   "execution_count": 51,
   "metadata": {},
   "outputs": [
    {
     "data": {
      "text/plain": [
       "(5+0j)"
      ]
     },
     "execution_count": 51,
     "metadata": {},
     "output_type": "execute_result"
    }
   ],
   "source": [
    "a = 5\n",
    "complex(a)"
   ]
  },
  {
   "cell_type": "markdown",
   "metadata": {},
   "source": [
    "Operations like addition, subtraction coerce (convert) integer to float automatically, if one of the operand is float. For Example:"
   ]
  },
  {
   "cell_type": "code",
   "execution_count": 52,
   "metadata": {},
   "outputs": [
    {
     "data": {
      "text/plain": [
       "11.0"
      ]
     },
     "execution_count": 52,
     "metadata": {},
     "output_type": "execute_result"
    }
   ],
   "source": [
    "10+1.0"
   ]
  },
  {
   "cell_type": "markdown",
   "metadata": {},
   "source": [
    "Note:\n",
    "When converting from float to integer, the decimal part of the number gets truncated, we get the number that is closer to 0"
   ]
  },
  {
   "cell_type": "code",
   "execution_count": 55,
   "metadata": {},
   "outputs": [
    {
     "data": {
      "text/plain": [
       "1"
      ]
     },
     "execution_count": 55,
     "metadata": {},
     "output_type": "execute_result"
    }
   ],
   "source": [
    "int(1.8)"
   ]
  },
  {
   "cell_type": "code",
   "execution_count": 54,
   "metadata": {
    "scrolled": true
   },
   "outputs": [
    {
     "data": {
      "text/plain": [
       "-4"
      ]
     },
     "execution_count": 54,
     "metadata": {},
     "output_type": "execute_result"
    }
   ],
   "source": [
    "int(-4.4)"
   ]
  },
  {
   "cell_type": "markdown",
   "metadata": {},
   "source": [
    "### 2.2 Strings\n",
    "String is sequence of Unicode characters. The string type in Python is called str. We can use single quotes (‘ ’) or double quotes (“ ”) to represent strings. Multi-line strings can be denoted using triple quotes, (''') or (\"\"\"). A string in Python can contain as many characters as you wish. The only limit is your machine’s memory resources. A string can also be empty."
   ]
  },
  {
   "cell_type": "code",
   "execution_count": 4,
   "metadata": {},
   "outputs": [
    {
     "data": {
      "text/plain": [
       "'I am Syyam'"
      ]
     },
     "execution_count": 4,
     "metadata": {},
     "output_type": "execute_result"
    }
   ],
   "source": [
    "'I am Syyam'"
   ]
  },
  {
   "cell_type": "code",
   "execution_count": 5,
   "metadata": {},
   "outputs": [
    {
     "data": {
      "text/plain": [
       "'I live in Lahore'"
      ]
     },
     "execution_count": 5,
     "metadata": {},
     "output_type": "execute_result"
    }
   ],
   "source": [
    "\"I live in Lahore\""
   ]
  },
  {
   "cell_type": "code",
   "execution_count": 6,
   "metadata": {},
   "outputs": [
    {
     "data": {
      "text/plain": [
       "' I study in COMSATS university lahore, I am currently in my \\n7th semester'"
      ]
     },
     "execution_count": 6,
     "metadata": {},
     "output_type": "execute_result"
    }
   ],
   "source": [
    "\"\"\" I study in COMSATS university lahore, I am currently in my \n",
    "7th semester\"\"\""
   ]
  },
  {
   "cell_type": "markdown",
   "metadata": {},
   "source": [
    "#### “Why”, “When” and “Where” to use a String?\n",
    "Strings are used when you want to store a data containing alphabets, numeric or alpha-numeric characters.\n",
    "\n",
    "Strings in Python are used in three different ways, you can either surround your data in single quotes, double quotes or triple quotes. Each of these methods have their own uses.\n",
    "\n",
    "You can store your data in single quotes when the data between the quotes isn’t exceeding one line. For Example:\n"
   ]
  },
  {
   "cell_type": "code",
   "execution_count": 2,
   "metadata": {},
   "outputs": [
    {
     "name": "stdout",
     "output_type": "stream",
     "text": [
      "syyam\n"
     ]
    }
   ],
   "source": [
    "name='syyam'\n",
    "print(name)"
   ]
  },
  {
   "cell_type": "markdown",
   "metadata": {},
   "source": [
    "But what if we need to store a data which itself consist of apostrophes or a single quote? e.g."
   ]
  },
  {
   "cell_type": "code",
   "execution_count": 5,
   "metadata": {},
   "outputs": [
    {
     "ename": "SyntaxError",
     "evalue": "invalid syntax (<ipython-input-5-41eea685949d>, line 1)",
     "output_type": "error",
     "traceback": [
      "\u001b[1;36m  File \u001b[1;32m\"<ipython-input-5-41eea685949d>\"\u001b[1;36m, line \u001b[1;32m1\u001b[0m\n\u001b[1;33m    print('My name's syyam.')\u001b[0m\n\u001b[1;37m                   ^\u001b[0m\n\u001b[1;31mSyntaxError\u001b[0m\u001b[1;31m:\u001b[0m invalid syntax\n"
     ]
    }
   ],
   "source": [
    "print('My name's syyam.')"
   ]
  },
  {
   "cell_type": "markdown",
   "metadata": {},
   "source": [
    "As you can see the compiler gives us an error here, the string in the example above opens with a single quote, so Python assumes the next single quote which is after (name) as the closing delimiter. The final single quote is then a stray and causes the syntax error.\n",
    "So what to do when we have a single quote occuring in our string? Well, we can use double quotes as a solution. For example:"
   ]
  },
  {
   "cell_type": "code",
   "execution_count": 6,
   "metadata": {},
   "outputs": [
    {
     "name": "stdout",
     "output_type": "stream",
     "text": [
      "My name's Syyam\n"
     ]
    }
   ],
   "source": [
    "print(\"My name's Syyam\")"
   ]
  },
  {
   "cell_type": "markdown",
   "metadata": {},
   "source": [
    "Hurrah! It looks like we have resolved the error. So whenever you know that the data might have single quote in it you will use double quotes as starting and ending delimiter and whenever you know that the data might have double quotes in it you can use single quote as a starting and ending delimiter.\n",
    "\n",
    "Now, what if the data is too long and is not getting fit in a single line? e.g."
   ]
  },
  {
   "cell_type": "code",
   "execution_count": 8,
   "metadata": {},
   "outputs": [
    {
     "ename": "SyntaxError",
     "evalue": "EOL while scanning string literal (<ipython-input-8-889c2efa0649>, line 1)",
     "output_type": "error",
     "traceback": [
      "\u001b[1;36m  File \u001b[1;32m\"<ipython-input-8-889c2efa0649>\"\u001b[1;36m, line \u001b[1;32m1\u001b[0m\n\u001b[1;33m    print(\"I love\u001b[0m\n\u001b[1;37m                 ^\u001b[0m\n\u001b[1;31mSyntaxError\u001b[0m\u001b[1;31m:\u001b[0m EOL while scanning string literal\n"
     ]
    }
   ],
   "source": [
    "print(\"I love\n",
    "      Mangoes\")"
   ]
  },
  {
   "cell_type": "markdown",
   "metadata": {},
   "source": [
    "As you can see in the above example we get an error if the string is multiline because double and single quotes are only valide when data is single lined.\n",
    "Now, to solve this issue we will use another way of storing strings by using tripple quotes. For example:"
   ]
  },
  {
   "cell_type": "code",
   "execution_count": 9,
   "metadata": {},
   "outputs": [
    {
     "name": "stdout",
     "output_type": "stream",
     "text": [
      "I love\n",
      "      Mangoes\n"
     ]
    }
   ],
   "source": [
    "print(\"\"\"I love\n",
    "      Mangoes\"\"\")"
   ]
  },
  {
   "cell_type": "markdown",
   "metadata": {},
   "source": [
    "You can use tripple quotes when you need to store a paragraph type of data in a string. Remember, there is no restriction of string length in Python's string."
   ]
  },
  {
   "cell_type": "markdown",
   "metadata": {},
   "source": [
    "#### Accessing values from a String\n",
    "We can access data from string using some special techniques in Python, known as indexing and slicing. In Python each of a string’s character corresponds to an index number starting from 0.\n",
    "\n",
    "In *indexing* you can get a character from a specified location in a string.\n",
    "For example:"
   ]
  },
  {
   "cell_type": "code",
   "execution_count": 26,
   "metadata": {},
   "outputs": [
    {
     "name": "stdout",
     "output_type": "stream",
     "text": [
      "y\n"
     ]
    }
   ],
   "source": [
    "Doodoo=\"Baby Fish.\"\n",
    "print(Doodoo[3])"
   ]
  },
  {
   "cell_type": "markdown",
   "metadata": {},
   "source": [
    "Like most of the programming languages, index of a string starts from 0 in Python, so thats why Doodoo[3] returns us the fourth character in the string \"Baby Fish\". \n",
    "\n",
    "Python also provides us a shortcut for getting a character which is somewhere at the end of a string using a process called \"Negative indexing\". For example, if you want to get the second last character from the string \"Baby Fish\" we can do:"
   ]
  },
  {
   "cell_type": "code",
   "execution_count": 16,
   "metadata": {},
   "outputs": [
    {
     "name": "stdout",
     "output_type": "stream",
     "text": [
      "s\n"
     ]
    }
   ],
   "source": [
    "print(Doodoo[-2])"
   ]
  },
  {
   "cell_type": "markdown",
   "metadata": {},
   "source": [
    "We can also get a set of characters from a string. Say if we want to just print the word \"Baby\". We can do it by creating a *slice*, which is a sequence of characters within an original string. With slices, we can have multiple characters by specifying a range of index numbers separated by a colon [a:b]. For Example:"
   ]
  },
  {
   "cell_type": "code",
   "execution_count": 17,
   "metadata": {},
   "outputs": [
    {
     "name": "stdout",
     "output_type": "stream",
     "text": [
      "Baby\n"
     ]
    }
   ],
   "source": [
    "print(Doodoo[0:4])"
   ]
  },
  {
   "cell_type": "markdown",
   "metadata": {},
   "source": [
    "Similarly, slicing can also be done with negative indexing. As we know that the second last character in a string is at -1 position. When using negative index numbers, we will start with the lower number first as it occurs earlier in the string. So, now we will see how we can access the substring \"Fish\" using negative indexing:"
   ]
  },
  {
   "cell_type": "code",
   "execution_count": 28,
   "metadata": {},
   "outputs": [
    {
     "name": "stdout",
     "output_type": "stream",
     "text": [
      "Fish\n"
     ]
    }
   ],
   "source": [
    "print(Doodoo[-5:-1])"
   ]
  },
  {
   "cell_type": "markdown",
   "metadata": {},
   "source": [
    "We have also a third argument while accessig a string that is called a *stride*. Stride is used for skipping characters after regular intervals while accessing a string, by default the value of stride is 1 that is why we don't usually write it. But what if we want to access the whole string while skipping every 2nd character i.e. character placed at even locations. We can do so like:"
   ]
  },
  {
   "cell_type": "code",
   "execution_count": 31,
   "metadata": {
    "scrolled": true
   },
   "outputs": [
    {
     "name": "stdout",
     "output_type": "stream",
     "text": [
      "Bb ih\n"
     ]
    }
   ],
   "source": [
    "print(Doodoo[0:-1:2])"
   ]
  },
  {
   "cell_type": "markdown",
   "metadata": {},
   "source": [
    "As we are printing the whole string we can omit the first two parameter while keeping the two colons within the syntax to achieve the same result:"
   ]
  },
  {
   "cell_type": "code",
   "execution_count": 32,
   "metadata": {
    "scrolled": true
   },
   "outputs": [
    {
     "name": "stdout",
     "output_type": "stream",
     "text": [
      "Bb ih\n"
     ]
    }
   ],
   "source": [
    "print(Doodoo[::2])"
   ]
  },
  {
   "cell_type": "markdown",
   "metadata": {},
   "source": [
    "Moreover, we can indicate a negative numeric value for the stride, which we can use to print the original string in reverse order if we set the stride to -1:"
   ]
  },
  {
   "cell_type": "code",
   "execution_count": 33,
   "metadata": {},
   "outputs": [
    {
     "name": "stdout",
     "output_type": "stream",
     "text": [
      ".hsiF ybaB\n"
     ]
    }
   ],
   "source": [
    "print(Doodoo[::-1])"
   ]
  },
  {
   "cell_type": "markdown",
   "metadata": {},
   "source": [
    "#### Updating Values of a String\n",
    "We can update an existing string by reassigning its variable to another string. We can also append data to the existing data or can override it. Examples are given below:"
   ]
  },
  {
   "cell_type": "code",
   "execution_count": 35,
   "metadata": {},
   "outputs": [
    {
     "name": "stdout",
     "output_type": "stream",
     "text": [
      "Allah\n",
      "Akbar\n"
     ]
    }
   ],
   "source": [
    "myString=\"Allah \"\n",
    "print(myString)\n",
    "myString=\"Hoo Akbar\"\n",
    "print(myString)"
   ]
  },
  {
   "cell_type": "markdown",
   "metadata": {},
   "source": [
    "As you can see, assigning value \"Hoo Akbar\" to the same string which we used overrides the previous value of *myString*.\n",
    "Now, what if we don't want to override the string but to append the string:"
   ]
  },
  {
   "cell_type": "code",
   "execution_count": 38,
   "metadata": {},
   "outputs": [
    {
     "name": "stdout",
     "output_type": "stream",
     "text": [
      "Allah Hoo Akbar\n"
     ]
    }
   ],
   "source": [
    "myString2=\"Allah \"\n",
    "myString2=myString2+\"Hoo Akbar\"\n",
    "print(myString2)"
   ]
  },
  {
   "cell_type": "markdown",
   "metadata": {},
   "source": [
    "#### Deleting a String\n",
    "Deleting a string is pretty straightforward. You can delete a string by simply putting a *del* keyword before a variable name. It doesn't matter what type of data is stored in an object, *del* keyword can delete any object. Example given:"
   ]
  },
  {
   "cell_type": "code",
   "execution_count": 42,
   "metadata": {},
   "outputs": [
    {
     "name": "stdout",
     "output_type": "stream",
     "text": [
      "Noor\n"
     ]
    },
    {
     "ename": "NameError",
     "evalue": "name 'a' is not defined",
     "output_type": "error",
     "traceback": [
      "\u001b[1;31m---------------------------------------------------------------------------\u001b[0m",
      "\u001b[1;31mNameError\u001b[0m                                 Traceback (most recent call last)",
      "\u001b[1;32m<ipython-input-42-d7bda05f1e00>\u001b[0m in \u001b[0;36m<module>\u001b[1;34m()\u001b[0m\n\u001b[0;32m      2\u001b[0m \u001b[0mprint\u001b[0m\u001b[1;33m(\u001b[0m\u001b[0ma\u001b[0m\u001b[1;33m)\u001b[0m\u001b[1;33m\u001b[0m\u001b[0m\n\u001b[0;32m      3\u001b[0m \u001b[1;32mdel\u001b[0m \u001b[0ma\u001b[0m\u001b[1;33m\u001b[0m\u001b[0m\n\u001b[1;32m----> 4\u001b[1;33m \u001b[0mprint\u001b[0m\u001b[1;33m(\u001b[0m\u001b[0ma\u001b[0m\u001b[1;33m)\u001b[0m\u001b[1;33m\u001b[0m\u001b[0m\n\u001b[0m",
      "\u001b[1;31mNameError\u001b[0m: name 'a' is not defined"
     ]
    }
   ],
   "source": [
    "a=\"Noor\"\n",
    "print(a)\n",
    "del a\n",
    "print(a)"
   ]
  },
  {
   "cell_type": "markdown",
   "metadata": {},
   "source": [
    "#### String special operators\n",
    "Python provides us various operators to work with while handling objects. Some of them are listed below:\n",
    "1. Concatenation Operator\n",
    "2. Repitition Operator\n",
    "3. String operator ‘in’\n",
    "4. String operator ‘not in’\n",
    "5. Range of slice\n",
    "6. Indexing"
   ]
  },
  {
   "cell_type": "markdown",
   "metadata": {},
   "source": [
    "*Concatenation operator* is used when we need to append two or more strings with an existing string. We use '+' operator for concatenation. For Example:"
   ]
  },
  {
   "cell_type": "code",
   "execution_count": 45,
   "metadata": {},
   "outputs": [
    {
     "name": "stdout",
     "output_type": "stream",
     "text": [
      "Syyam Noor\n"
     ]
    }
   ],
   "source": [
    "name=\"Syyam\"\n",
    "lastName=\"Noor\"\n",
    "FullName=name+\" \"+lastName\n",
    "print(FullName)"
   ]
  },
  {
   "cell_type": "markdown",
   "metadata": {},
   "source": [
    "*Repitition Operator* is used when we need to repeat multiple copies of a string. For Example:"
   ]
  },
  {
   "cell_type": "code",
   "execution_count": 49,
   "metadata": {},
   "outputs": [
    {
     "name": "stdout",
     "output_type": "stream",
     "text": [
      "Doremon * 5 = Doremon Doremon Doremon Doremon Doremon \n"
     ]
    }
   ],
   "source": [
    "X = 'Doremon '\n",
    "Y = X*5\n",
    "print (\"Doremon * 5 = \" + Y)"
   ]
  },
  {
   "cell_type": "markdown",
   "metadata": {},
   "source": [
    "*String operator ‘in’* returns a Boolean value of either true or false. If the characters or character you are searching for exist in the string then it will return ‘true’ otherwise ‘false’. For Example:"
   ]
  },
  {
   "cell_type": "code",
   "execution_count": 51,
   "metadata": {},
   "outputs": [
    {
     "name": "stdout",
     "output_type": "stream",
     "text": [
      "He Loves Pakistan\n"
     ]
    }
   ],
   "source": [
    "X = 'I love Pakistan'\n",
    "if 'love' in X:\n",
    "    print (\"He Loves Pakistan\")\n",
    "else:\n",
    "    print (\"He loven't\")"
   ]
  },
  {
   "cell_type": "markdown",
   "metadata": {},
   "source": [
    "*String operator ‘not in’* returns a Boolean value of either true or false. If the characters or character you are searching for does no exist in the string then it will return ‘true’ otherwise ‘false’. For Example:"
   ]
  },
  {
   "cell_type": "code",
   "execution_count": 52,
   "metadata": {},
   "outputs": [
    {
     "name": "stdout",
     "output_type": "stream",
     "text": [
      "He hates Israel\n"
     ]
    }
   ],
   "source": [
    "Y = 'I hate Israel'\n",
    "if 'hate' not in Y:\n",
    "    print (\"He Loves Israel\")\n",
    "else:\n",
    "    print (\"He hates Israel\")"
   ]
  },
  {
   "cell_type": "markdown",
   "metadata": {},
   "source": [
    "We have two more operators whle handling objects; slicing and indexing that has been discussed before."
   ]
  },
  {
   "cell_type": "markdown",
   "metadata": {},
   "source": [
    "#### String Formatting Operator\n",
    "Python uses C-like string formatting to create formatted strings. The '%' operator is used to format a set of variables enclosed in a \"tuple\" (a fixed size list), together with a format string, which contains normal text together with 'argument specifiers', special symbols like \"%s\" and \"%d\". For example:"
   ]
  },
  {
   "cell_type": "code",
   "execution_count": 60,
   "metadata": {},
   "outputs": [
    {
     "name": "stdout",
     "output_type": "stream",
     "text": [
      "Syyam is 20 years old.\n"
     ]
    }
   ],
   "source": [
    "Name = \"Syyam\"\n",
    "Age = 20\n",
    "print(\"%s is %d years old.\" % (Name, Age))"
   ]
  },
  {
   "cell_type": "markdown",
   "metadata": {},
   "source": [
    "### 2.3 Lists\n",
    "Python has a great built-in list type named \"list\". List literals are written within square brackets [ ]. Lists work similarly to strings. In Python programming, a list is created by placing all the items (elements) inside a square bracket [ ], separated by commas. List is one of the four collection data types we have in the Python programming language.\n",
    "It can have any number of items and they may be of different types (integer, float, string etc.). For example:"
   ]
  },
  {
   "cell_type": "code",
   "execution_count": 65,
   "metadata": {},
   "outputs": [],
   "source": [
    "list1=[] # Empty List\n",
    "list2=[2,41,4] # List of numbers\n",
    "list3=[\"syyam\", 10, 6.9] # List of mix data types"
   ]
  },
  {
   "cell_type": "markdown",
   "metadata": {},
   "source": [
    "A list can also have another list as an item. This is called nested list."
   ]
  },
  {
   "cell_type": "code",
   "execution_count": 69,
   "metadata": {},
   "outputs": [
    {
     "name": "stdout",
     "output_type": "stream",
     "text": [
      "[3, [7, 8, 6], ['a', 9, 'c']]\n"
     ]
    }
   ],
   "source": [
    "list4 = [3, [7, 8, 6], ['a',9,'c']]\n",
    "print(list4)"
   ]
  },
  {
   "cell_type": "markdown",
   "metadata": {},
   "source": [
    "#### “Why”, “When” and “Where” to use a List?\n",
    "Lists are use for storing different data inside a single entity, the entity is called an object or a variable. Lists take less space as compared to dictionaries and it's easy to iterate on lists.\n",
    "\n",
    "Lists are used when you want to store multiple data items inside a single object. We should use a lists when we have an ordered collection of items.\n",
    "\n",
    "We use Lists where data items are more than one and for more data items we make an object and store different data item inside that object rather than creating different variables for different data items. A list keeps order, when you care about order, therefore, you must use list. List also uses non-hashable items, therefor, you should not use list when there are hashable items. List takes time proportional to the list's length in the average and worst cases while checking for a value which makes it slower than its counter parts i.e. dictionary."
   ]
  },
  {
   "cell_type": "markdown",
   "metadata": {},
   "source": [
    "#### Accessing values from a List\n",
    "Just like strings, there are many ways in which we can access the elements of a list (Slicing, Indexing, Negative indexing etc.).\n",
    "\n",
    "In *indexing* we can use the index operator [] to access an item in a list. Same as strings index in lists also starts from 0. An example of list is given below:"
   ]
  },
  {
   "cell_type": "code",
   "execution_count": 71,
   "metadata": {},
   "outputs": [
    {
     "name": "stdout",
     "output_type": "stream",
     "text": [
      "G\n"
     ]
    }
   ],
   "source": [
    "myList=['M','A','N','G','O']\n",
    "print(myList[3])"
   ]
  },
  {
   "cell_type": "markdown",
   "metadata": {},
   "source": [
    "Nested list are accessed using nested indexing. For example:"
   ]
  },
  {
   "cell_type": "code",
   "execution_count": 87,
   "metadata": {},
   "outputs": [
    {
     "name": "stdout",
     "output_type": "stream",
     "text": [
      "3rd character in 1st element of myNestedList is: y\n",
      "Answer is: Haq\n"
     ]
    }
   ],
   "source": [
    "#finding 3rd character in 1st elecment of list\n",
    "myNestedList=[\"Syyam\", [1,9,9,8]] \n",
    "print(\"3rd character in 1st element of myNestedList is: \"+myNestedList[0][2])\n",
    "\n",
    "#finding 'Haq' from the list\n",
    "myNestedList1=[\"Syyam\", [[\"Noor\"],[\"Haq\"]]] \n",
    "print(\"Answer is: \"+myNestedList1[1][1][0])"
   ]
  },
  {
   "cell_type": "markdown",
   "metadata": {},
   "source": [
    "In *negative indexing* we can directly access the last few elements in a list without making complex logics, the index -1 refers to the last item, -2 to the second last item and so on."
   ]
  },
  {
   "cell_type": "code",
   "execution_count": 91,
   "metadata": {},
   "outputs": [
    {
     "name": "stdout",
     "output_type": "stream",
     "text": [
      "8\n"
     ]
    }
   ],
   "source": [
    "# accessing last element of the last element in a list\n",
    "myNestedList=[\"Syyam\", [1,9,9,8]]\n",
    "print(myNestedList[-1][-1])"
   ]
  },
  {
   "cell_type": "markdown",
   "metadata": {},
   "source": [
    "We can access a range of items in a list by using the *slicing operator* (colon). For example:"
   ]
  },
  {
   "cell_type": "code",
   "execution_count": 106,
   "metadata": {},
   "outputs": [
    {
     "name": "stdout",
     "output_type": "stream",
     "text": [
      "['A', 'R', 'D', 'A', 'R']\n",
      "['Z', 'A']\n",
      "['Z', 'A', 'R', 'D', 'A', 'R', 'I', ['3', '0', '2']]\n",
      "['R', 'I', ['3', '0', '2']]\n",
      "3\n"
     ]
    }
   ],
   "source": [
    "myList = ['Z','A','R','D','A','R','I', ['3','0','2']]\n",
    "\n",
    "# elements 2nd to 6th\n",
    "print(myList[1:6])\n",
    "\n",
    "# elements upto last 6 characters\n",
    "print(myList[:-6])\n",
    "\n",
    "# elements beginning to end\n",
    "print(myList[:])\n",
    "\n",
    "# elements 6th to end\n",
    "print(myList[5:])\n",
    "\n",
    "# 1st element of the last element of the list\n",
    "print(myList[-1][0])"
   ]
  },
  {
   "cell_type": "markdown",
   "metadata": {},
   "source": [
    "#### Updating Lists\n",
    "List are mutable, meaning, their elements can be changed unlike string or tuple. We can use assignment operator (=) to change an item or a range of items. For example:"
   ]
  },
  {
   "cell_type": "code",
   "execution_count": 120,
   "metadata": {},
   "outputs": [
    {
     "name": "stdout",
     "output_type": "stream",
     "text": [
      "['N', 'A', 'W', 'A', 'N']\n",
      "['I', 'M', 'R', 'A', 'N']\n"
     ]
    }
   ],
   "source": [
    "prev = ['N','A','W','A','Z']\n",
    "\n",
    "prev[len(prev)-1] = 'N'            \n",
    "\n",
    "print(prev)\n",
    "\n",
    "prev[0:4] = ['I', 'M', 'R','A']  \n",
    "\n",
    "new=prev\n",
    "\n",
    "print(new)    "
   ]
  },
  {
   "cell_type": "markdown",
   "metadata": {},
   "source": [
    "We can add one item to a list using append() method or add several items using extend() method."
   ]
  },
  {
   "cell_type": "code",
   "execution_count": 124,
   "metadata": {},
   "outputs": [
    {
     "name": "stdout",
     "output_type": "stream",
     "text": [
      "[1, 2, 3, 4]\n",
      "[1, 2, 3, 4, 5, 6, 7]\n"
     ]
    }
   ],
   "source": [
    "x = [1, 2, 3]\n",
    "\n",
    "x.append(4)\n",
    "\n",
    "print(x)\n",
    "\n",
    "x.extend([5, 6, 7])\n",
    "\n",
    "print(x)"
   ]
  },
  {
   "cell_type": "markdown",
   "metadata": {},
   "source": [
    "#### Deleting List Elements\n",
    "We can delete one or more items from a list using the keyword *del*. It can even delete the entire list."
   ]
  },
  {
   "cell_type": "code",
   "execution_count": 138,
   "metadata": {},
   "outputs": [
    {
     "name": "stdout",
     "output_type": "stream",
     "text": [
      "['O', 'T', 'F', 'E', 'M', 'I', 'N', 'I', 'S', 'M']\n",
      "['O', 'T', 'I', 'S', 'M']\n"
     ]
    }
   ],
   "source": [
    "myList = ['H','O','T','F','E','M','I','N','I','S','M']\n",
    "\n",
    "# deleting one item\n",
    "del myList[0]\n",
    "  \n",
    "print(myList)\n",
    "\n",
    "#deleting a range of items\n",
    "del myList[2:7]  \n",
    "\n",
    "print(myList)\n",
    "\n",
    "# deleting entire list\n",
    "del myList       \n",
    "\n",
    "#print(my_list)\n",
    "# Error: List not defined"
   ]
  },
  {
   "cell_type": "markdown",
   "metadata": {},
   "source": [
    "We can use remove() method to remove the given item or pop() method to remove an item at the given index. The pop() method removes and returns the last item if index is not provided. This helps us implement lists as stacks (FIFO data structure). We can also use the clear() method to empty a list."
   ]
  },
  {
   "cell_type": "code",
   "execution_count": 147,
   "metadata": {},
   "outputs": [
    {
     "name": "stdout",
     "output_type": "stream",
     "text": [
      "['U', 'L', 'J', 'I', 'N', 'N', 'A', 'H']\n",
      "U\n",
      "L\n",
      "['J', 'I', 'N', 'N', 'A', 'H']\n",
      "H\n",
      "['J', 'I', 'N', 'N', 'A']\n",
      "[]\n"
     ]
    }
   ],
   "source": [
    "my_list = ['Z','U','L','J','I','N','N','A','H']\n",
    "my_list.remove('Z')\n",
    "\n",
    "print(my_list)\n",
    "\n",
    "print(my_list.pop(0))\n",
    "print(my_list.pop(0))\n",
    "\n",
    "print(my_list)\n",
    "\n",
    "print(my_list.pop())\n",
    "\n",
    "print(my_list)\n",
    "\n",
    "my_list.clear()\n",
    "\n",
    "print(my_list)"
   ]
  },
  {
   "cell_type": "markdown",
   "metadata": {},
   "source": [
    "We have many more methods to change list data, e.g. sort(): Sorts the items in ascending order, reverse(): Reverses the order of items etc."
   ]
  },
  {
   "cell_type": "markdown",
   "metadata": {},
   "source": [
    "### 2.5 Dictionaries\n",
    "Python dictionary is an unordered collection of items. While other compound data types have only value as an element, a dictionary has a (key: value) pair. Each key is separated from its value by a colon (:)\n",
    "Keys are unique within a dictionary while values may not be. The values of a dictionary can be of any type, but the keys must be of an immutable data type such as strings, numbers, or tuples. Example of dictionary is given below:"
   ]
  },
  {
   "cell_type": "code",
   "execution_count": 2,
   "metadata": {},
   "outputs": [],
   "source": [
    "# dictionary with integer keys\n",
    "my_dict = {1: 'cat', 2: 'dog'}\n",
    "\n",
    "# dictionary with mixed data type keys\n",
    "my_dict = {'Name': 'Syyam', 1: [10, 100, 1000]}\n",
    "\n",
    "# dictionary using dict()\n",
    "my_dict = dict({1:'apple', 2:'ball'})"
   ]
  },
  {
   "cell_type": "markdown",
   "metadata": {},
   "source": [
    "#### “Why”, “When” and “Where” to use Dictionaries?\n",
    "Dict associates with each key a value\n",
    "\n",
    "Checking for membership of a value in a dict, for keys is blazingly fast (taking about a constant, short time), while in a list it takes time proportional to the list's length in the average and worst cases. You often use a dictionary when you have a set of unique keys that map to values. For example, when you want a telephone book which maps names to a dict, phone numbers: {'Syyam Noot' : '03355011998'}). Note that the keys in a dict are unordered. (If you iterate through a dict (telephone book), the keys (names) may show up in any order).\n",
    "\n",
    "If you need to associate values with keys, so you can look them up efficiently (by key) later, use a dictionary.\n",
    "\n",
    "#### Accessing value from a Dictionary\n",
    "To access a dictionary value, we use square brackets []. For example, the code below uses the key ‘name’ to access the value ‘Syyam’."
   ]
  },
  {
   "cell_type": "code",
   "execution_count": 4,
   "metadata": {},
   "outputs": [
    {
     "name": "stdout",
     "output_type": "stream",
     "text": [
      "Syyam\n"
     ]
    }
   ],
   "source": [
    "myDict={'name':'Syyam'}\n",
    "print(myDict['name'])"
   ]
  },
  {
   "cell_type": "markdown",
   "metadata": {},
   "source": [
    "But what if we accidently write a wrong key to fetch a data? The compiler will through an error 'KeyError'. To prevent from getting this error we can use another method of fetching an item from deictionary, by using a get() function. The compiler will return 'none' if key doesn;t matches any of the keys present. Example:"
   ]
  },
  {
   "cell_type": "code",
   "execution_count": 9,
   "metadata": {},
   "outputs": [
    {
     "name": "stdout",
     "output_type": "stream",
     "text": [
      "Syyam\n",
      "None\n"
     ]
    }
   ],
   "source": [
    "print(myDict.get('name'))\n",
    "print(myDict.get('Name'))"
   ]
  },
  {
   "cell_type": "markdown",
   "metadata": {},
   "source": [
    "#### Updating Dictionary\n",
    "Dictionary are mutable (changeable). We can add new items to the dictioary or can change the value of existing items using assignment operator. If the key is already present the value gets updated, otherwise a new *key:value* pair is added to the dictionary. For example:"
   ]
  },
  {
   "cell_type": "code",
   "execution_count": 16,
   "metadata": {},
   "outputs": [
    {
     "name": "stdout",
     "output_type": "stream",
     "text": [
      "{'id': '10', 'name': 'Syyam', 'age': 20}\n",
      "{'id': '10', 'name': 'Syyam', 'age': 20, 'height': '6.1'}\n"
     ]
    }
   ],
   "source": [
    "userInformation={'id':'10', 'name':'Syyam', 'age': '19'}\n",
    "\n",
    "# Overriding old values\n",
    "userInformation['age']=20\n",
    "print(userInformation)\n",
    "\n",
    "# Adding new information\n",
    "userInformation['height']='6.1'\n",
    "print(userInformation)"
   ]
  },
  {
   "cell_type": "markdown",
   "metadata": {},
   "source": [
    "#### Delete Elements from a Dictionary\n",
    "Just like lists we can use the *del* keyword to remove individual items from the list, we can also delete the entire dictionary itself. Example:"
   ]
  },
  {
   "cell_type": "code",
   "execution_count": 23,
   "metadata": {},
   "outputs": [
    {
     "name": "stdout",
     "output_type": "stream",
     "text": [
      "{'id': '10', 'name': 'Syyam'}\n"
     ]
    },
    {
     "ename": "NameError",
     "evalue": "name 'userInformation' is not defined",
     "output_type": "error",
     "traceback": [
      "\u001b[1;31m---------------------------------------------------------------------------\u001b[0m",
      "\u001b[1;31mNameError\u001b[0m                                 Traceback (most recent call last)",
      "\u001b[1;32m<ipython-input-23-08a158ff77f9>\u001b[0m in \u001b[0;36m<module>\u001b[1;34m()\u001b[0m\n\u001b[0;32m      7\u001b[0m \u001b[1;32mdel\u001b[0m \u001b[0muserInformation\u001b[0m\u001b[1;33m\u001b[0m\u001b[0m\n\u001b[0;32m      8\u001b[0m \u001b[1;31m# The compiler will through an error because userInformation has been deleted\u001b[0m\u001b[1;33m\u001b[0m\u001b[1;33m\u001b[0m\u001b[0m\n\u001b[1;32m----> 9\u001b[1;33m \u001b[0mprint\u001b[0m\u001b[1;33m(\u001b[0m\u001b[0muserInformation\u001b[0m\u001b[1;33m)\u001b[0m\u001b[1;33m\u001b[0m\u001b[0m\n\u001b[0m",
      "\u001b[1;31mNameError\u001b[0m: name 'userInformation' is not defined"
     ]
    }
   ],
   "source": [
    "userInformation={'id':'10', 'name':'Syyam', 'age': '20'}\n",
    "\n",
    "# Deleting individual values \n",
    "del userInformation['age']\n",
    "print(userInformation)\n",
    "\n",
    "del userInformation\n",
    "# The compiler will through an error because userInformation has been deleted\n",
    "print(userInformation)"
   ]
  },
  {
   "cell_type": "markdown",
   "metadata": {},
   "source": [
    "We can remove a particular item from a dictionary also by using the method *pop()*. This method removes the item with the provided key and returns the value. Example:"
   ]
  },
  {
   "cell_type": "code",
   "execution_count": 25,
   "metadata": {},
   "outputs": [
    {
     "name": "stdout",
     "output_type": "stream",
     "text": [
      "20\n",
      "{'id': '10', 'name': 'Syyam'}\n"
     ]
    }
   ],
   "source": [
    "userInformation={'id':'10', 'name':'Syyam', 'age': '20'}\n",
    "print(userInformation.pop('age'))\n",
    "print(userInformation)"
   ]
  },
  {
   "cell_type": "markdown",
   "metadata": {},
   "source": [
    "The method, *popitem()* can be used to remove and return an arbitrary item (key, value) form the dictionary."
   ]
  },
  {
   "cell_type": "code",
   "execution_count": 28,
   "metadata": {},
   "outputs": [
    {
     "name": "stdout",
     "output_type": "stream",
     "text": [
      "('age', '20')\n",
      "('name', 'Syyam')\n",
      "('id', '10')\n"
     ]
    }
   ],
   "source": [
    "userInformation={'id':'10', 'name':'Syyam', 'age': '20'}\n",
    "print(userInformation.popitem())\n",
    "print(userInformation.popitem())\n",
    "print(userInformation.popitem())"
   ]
  },
  {
   "cell_type": "markdown",
   "metadata": {},
   "source": [
    "All the items can be removed at once using the *clear()* method. We will get an empty dictionary rather than a 'not defined' error when printing the dictionary after *clear()*. Example:"
   ]
  },
  {
   "cell_type": "code",
   "execution_count": 30,
   "metadata": {},
   "outputs": [
    {
     "name": "stdout",
     "output_type": "stream",
     "text": [
      "{}\n"
     ]
    }
   ],
   "source": [
    "userInformation={'id':'10', 'name':'Syyam', 'age': '20'}\n",
    "userInformation.clear()\n",
    "print(userInformation)"
   ]
  },
  {
   "cell_type": "markdown",
   "metadata": {},
   "source": [
    "### 2.6 Tuples"
   ]
  },
  {
   "cell_type": "markdown",
   "metadata": {},
   "source": [
    "In Python, a tuple is similar to a list. The only difference between the two is that *tuples* are immutable, which means we cannot change the elements of a tuple once it is assigned. Another major difference is that *tuple* uses parentheses, whereas lists use square brackets. Example:"
   ]
  },
  {
   "cell_type": "code",
   "execution_count": 37,
   "metadata": {},
   "outputs": [
    {
     "name": "stdout",
     "output_type": "stream",
     "text": [
      "('syyam', 'noor', 1998, 5)\n",
      "(2, '1')\n"
     ]
    }
   ],
   "source": [
    "tuple1 = ('syyam','noor',1998,5);\n",
    "tuple2 = (2,'1'); \n",
    "print(tuple1)\n",
    "print(tuple2)"
   ]
  },
  {
   "cell_type": "markdown",
   "metadata": {},
   "source": [
    "Having one element within parentheses is not enough. We will add a comma ',' to indicate that it's a tuple:"
   ]
  },
  {
   "cell_type": "code",
   "execution_count": 40,
   "metadata": {},
   "outputs": [],
   "source": [
    "tuple3 = (7,);"
   ]
  },
  {
   "cell_type": "markdown",
   "metadata": {},
   "source": [
    "#### “Why”, “When” and “Where” to use Tuples?\n",
    "We generally use *tuple* when the datatype are different. Since *tuples* are immutable, iterating through tuple is faster than with list. So there is a slight performance boost. \n",
    "\n",
    "We use tuples when we want to collect an immutable ordered list of elements. If you have data that doesn't change, implementing it as a tuple will guarantee that it remains write-protected.\n",
    "\n",
    "For example, when you want a (name, phoneNumber) pair that you wish to use as an element in a set, you would need a tuple rather than a list since sets require elements to be immutable).\n",
    "\n",
    "#### Accessing Elements in a Tuple\n",
    "Just like *lists* there are various ways in which we can access the elements of a tuple (Slicing, Indexing, Negative Indexing etc.).\n",
    "\n",
    "In *Indexing* we use the index operator [] to access an item in a tuple. The index must be an integer, so we cannot use float or other types. This will result into TypeError. Likewise, nested tuple are accessed using nested indexing. Example ginven below:"
   ]
  },
  {
   "cell_type": "code",
   "execution_count": 45,
   "metadata": {},
   "outputs": [
    {
     "name": "stdout",
     "output_type": "stream",
     "text": [
      "B\n",
      "A\n"
     ]
    }
   ],
   "source": [
    "myTuple=('I','B','L','E','E','S','A')\n",
    "print(myTuple[1])\n",
    "print(myTuple[len(myTuple)-1])"
   ]
  },
  {
   "cell_type": "markdown",
   "metadata": {},
   "source": [
    "*Negative Indexing* works pretty much the same as above but in this case we use negative integers to point at tuple locations. For example '-1' will refer to the last item, '-2' will refer to the second last item and so on:"
   ]
  },
  {
   "cell_type": "code",
   "execution_count": 47,
   "metadata": {},
   "outputs": [
    {
     "name": "stdout",
     "output_type": "stream",
     "text": [
      "A\n",
      "B\n"
     ]
    }
   ],
   "source": [
    "myTuple=('I','B','L','E','E','S','A')\n",
    "print(myTuple[-1])\n",
    "print(myTuple[-(len(myTuple)- 1)])"
   ]
  },
  {
   "cell_type": "markdown",
   "metadata": {},
   "source": [
    "We can access a range of items in a tuple by using the slicing operator e.g. colon ' : '. Ecxample:"
   ]
  },
  {
   "cell_type": "code",
   "execution_count": 54,
   "metadata": {},
   "outputs": [
    {
     "name": "stdout",
     "output_type": "stream",
     "text": [
      "('I', 'B', 'L', 'E', 'E', 'S')\n",
      "('I', 'B', 'L', 'E', 'E', 'S')\n"
     ]
    }
   ],
   "source": [
    "myTuple=('I','B','L','E','E','S','A')\n",
    "print(myTuple[0:6])\n",
    "print(myTuple[-(len(myTuple)):-1])"
   ]
  },
  {
   "cell_type": "markdown",
   "metadata": {},
   "source": [
    "#### Updating tuples\n",
    "Unlike lists, tuples are immutable. This means that elements of a tuple cannot be changed once it has been assigned. But, if the element is itself a mutable datatype like list, its nested items can be changed.\n",
    "\n",
    "We can also assign a tuple to different values (re-assignment). Example:"
   ]
  },
  {
   "cell_type": "code",
   "execution_count": 56,
   "metadata": {},
   "outputs": [
    {
     "name": "stdout",
     "output_type": "stream",
     "text": [
      "(1, 2, 3, [4, 5])\n",
      "(1, 2, 3, 4, 5)\n"
     ]
    }
   ],
   "source": [
    "myTuple = (1, 2, 3, [4, 4])\n",
    "\n",
    "myTuple[3][1] = 5\n",
    "print(myTuple)\n",
    "\n",
    "\n",
    "myTuple = (1, 2, 3, 4, 5)\n",
    "print(myTuple)"
   ]
  },
  {
   "cell_type": "markdown",
   "metadata": {},
   "source": [
    "We can use concatenation '+' operator to combine two tuples and also we can repeat the elements in a tuple for a given number of times using the '*' operator.\n",
    "Both + and * operations result into a new tuple. Example:"
   ]
  },
  {
   "cell_type": "code",
   "execution_count": 58,
   "metadata": {},
   "outputs": [
    {
     "name": "stdout",
     "output_type": "stream",
     "text": [
      "('s', 'y', 'y', 'a', 'm', ' ', 1, 0)\n",
      "('Syyam', 'Syyam', 'Syyam', 'Syyam', 'Syyam', 'Syyam', 'Syyam', 'Syyam', 'Syyam', 'Syyam')\n"
     ]
    }
   ],
   "source": [
    "# Concatenation\n",
    "print(('s', 'y', 'y', 'a', 'm', ' ') + (1, 0))\n",
    "\n",
    "print((\"Syyam\",) * 10)"
   ]
  },
  {
   "cell_type": "markdown",
   "metadata": {},
   "source": [
    "#### Deleting a Tuple\n"
   ]
  },
  {
   "cell_type": "markdown",
   "metadata": {},
   "source": [
    "As we have said earlier, we cannot change the elements in a *tuple*. Which means we cannot delete or remove items from a *tuple*. But deleting a tuple entirely is possible using the keyword 'del'. Example:"
   ]
  },
  {
   "cell_type": "code",
   "execution_count": 1,
   "metadata": {},
   "outputs": [
    {
     "name": "stdout",
     "output_type": "stream",
     "text": [
      "('X', 'Y', 'Z')\n"
     ]
    },
    {
     "ename": "NameError",
     "evalue": "name 'myTuple' is not defined",
     "output_type": "error",
     "traceback": [
      "\u001b[1;31m---------------------------------------------------------------------------\u001b[0m",
      "\u001b[1;31mNameError\u001b[0m                                 Traceback (most recent call last)",
      "\u001b[1;32m<ipython-input-1-9fda762a9203>\u001b[0m in \u001b[0;36m<module>\u001b[1;34m()\u001b[0m\n\u001b[0;32m      2\u001b[0m \u001b[0mprint\u001b[0m\u001b[1;33m(\u001b[0m\u001b[0mmyTuple\u001b[0m\u001b[1;33m)\u001b[0m\u001b[1;33m\u001b[0m\u001b[0m\n\u001b[0;32m      3\u001b[0m \u001b[1;32mdel\u001b[0m \u001b[0mmyTuple\u001b[0m\u001b[1;33m\u001b[0m\u001b[0m\n\u001b[1;32m----> 4\u001b[1;33m \u001b[0mprint\u001b[0m\u001b[1;33m(\u001b[0m\u001b[0mmyTuple\u001b[0m\u001b[1;33m)\u001b[0m\u001b[1;33m\u001b[0m\u001b[0m\n\u001b[0m",
      "\u001b[1;31mNameError\u001b[0m: name 'myTuple' is not defined"
     ]
    }
   ],
   "source": [
    "myTuple=('X','Y','Z')\n",
    "print(myTuple)\n",
    "del myTuple\n",
    "print(myTuple)"
   ]
  },
  {
   "cell_type": "markdown",
   "metadata": {},
   "source": [
    "### 2.7 Sets"
   ]
  },
  {
   "cell_type": "markdown",
   "metadata": {},
   "source": [
    "A set are unidexed and unordered collection of items, so the items appear in a random order. Every element is unique, there cannot be any duplicates. Every element is immutable (cannot be changed). A set is created by putting all the items inside a curly braces {}, separated by a comma.\n",
    "\n",
    "It can have any number of items and they can be of different data types (integer, tuple, string, float,  etc.). But a set cannot have a mutable element, like list, set or dictionary, as its element."
   ]
  },
  {
   "cell_type": "code",
   "execution_count": 6,
   "metadata": {},
   "outputs": [
    {
     "name": "stdout",
     "output_type": "stream",
     "text": [
      "{1, 2, 3, 'a', 's', 'y', 'm'}\n"
     ]
    }
   ],
   "source": [
    "mySet = {1, 2, 3, 's','y','y','a','m'}\n",
    "print(mySet)"
   ]
  },
  {
   "cell_type": "markdown",
   "metadata": {},
   "source": [
    "You can also initialize an empty set by using *set()* function. To intialize a set with values, you can pass in a list to set()."
   ]
  },
  {
   "cell_type": "code",
   "execution_count": 20,
   "metadata": {},
   "outputs": [
    {
     "name": "stdout",
     "output_type": "stream",
     "text": [
      "{'a', 'c', 'b'}\n",
      "<class 'dict'>\n"
     ]
    }
   ],
   "source": [
    "mySet=set(['a','b','b','c'])\n",
    "print(mySet)"
   ]
  },
  {
   "cell_type": "markdown",
   "metadata": {},
   "source": [
    "Empty curly braces {} will make an empty dictionary in Python. To make a set without any elements we use the set() function without any argument."
   ]
  },
  {
   "cell_type": "code",
   "execution_count": 21,
   "metadata": {},
   "outputs": [
    {
     "name": "stdout",
     "output_type": "stream",
     "text": [
      "<class 'dict'>\n",
      "<class 'set'>\n"
     ]
    }
   ],
   "source": [
    "mySet1 = {}\n",
    "print(type(mySet1))\n",
    "\n",
    "\n",
    "mySet2 = set()\n",
    "print(type(mySet2))"
   ]
  },
  {
   "cell_type": "markdown",
   "metadata": {},
   "source": [
    "#### “Why”, “When” and “Where” to use Dictionaries?\n",
    "Because sets cannot have multiple occurrences of the same element, it makes sets highly useful to efficiently remove duplicate values from a list or tuple and to perform common math operations like unions and intersections.\n",
    "\n",
    "When we want an unordered collection of unique elements, we use a set.\n",
    "\n",
    "You can use a set when you are required to find set of all the words used in a paragraph."
   ]
  },
  {
   "cell_type": "markdown",
   "metadata": {},
   "source": [
    "#### Changing a Set\n",
    "Set itself is mutable. But since they are unordered, indexing have no meaning.\n",
    "\n",
    "We cannot access or change an element of set using indexing or slicing. Since set does not support it.\n",
    "\n",
    "We can add single element using the add() method and multiple elements using the update() method. The update() method can take tuples, lists, strings or other sets as its argument. In all cases, duplicates are avoided."
   ]
  },
  {
   "cell_type": "code",
   "execution_count": 33,
   "metadata": {},
   "outputs": [
    {
     "name": "stdout",
     "output_type": "stream",
     "text": [
      "{1, 2}\n",
      "{1, 2, 3}\n",
      "{1, 2, 3, 4}\n",
      "{1, 2, 3, 4, 5, 6, 8}\n",
      "{1, 2, 3, 4, 5, 6, 'e', 8, 'o', 'l', 'h'}\n"
     ]
    }
   ],
   "source": [
    "mySet = {1,2}\n",
    "print(mySet)\n",
    "\n",
    "mySet.add(3)\n",
    "print(mySet)\n",
    "\n",
    "mySet.update([1,2,3,4])\n",
    "print(mySet)\n",
    "\n",
    "mySet.update([1,2,3,4,5], {1,6,8})\n",
    "print(mySet)\n",
    "\n",
    "mySet.update('hello')\n",
    "print(mySet)"
   ]
  },
  {
   "cell_type": "markdown",
   "metadata": {},
   "source": [
    "#### Removing Elements from Set\n",
    "A particular item can be removed from a set using these two methods: *discard()* and *remove()*.\n",
    "\n",
    "The only difference between the two is that, while using discard() if the item does not exist in the set, the set remains unchanged. But remove() will raise an error in such condition. Example:"
   ]
  },
  {
   "cell_type": "code",
   "execution_count": 36,
   "metadata": {},
   "outputs": [
    {
     "name": "stdout",
     "output_type": "stream",
     "text": [
      "{1, 2, 3, 4, 5}\n",
      "{1, 2, 3, 4}\n",
      "{1, 2, 3, 4}\n",
      "{1, 2, 3}\n"
     ]
    },
    {
     "ename": "KeyError",
     "evalue": "4",
     "output_type": "error",
     "traceback": [
      "\u001b[1;31m---------------------------------------------------------------------------\u001b[0m",
      "\u001b[1;31mKeyError\u001b[0m                                  Traceback (most recent call last)",
      "\u001b[1;32m<ipython-input-36-6c2cebf2c8fd>\u001b[0m in \u001b[0;36m<module>\u001b[1;34m()\u001b[0m\n\u001b[0;32m     11\u001b[0m \u001b[0mprint\u001b[0m\u001b[1;33m(\u001b[0m\u001b[0mmySet\u001b[0m\u001b[1;33m)\u001b[0m\u001b[1;33m\u001b[0m\u001b[0m\n\u001b[0;32m     12\u001b[0m \u001b[1;33m\u001b[0m\u001b[0m\n\u001b[1;32m---> 13\u001b[1;33m \u001b[0mmySet\u001b[0m\u001b[1;33m.\u001b[0m\u001b[0mremove\u001b[0m\u001b[1;33m(\u001b[0m\u001b[1;36m4\u001b[0m\u001b[1;33m)\u001b[0m\u001b[1;33m\u001b[0m\u001b[0m\n\u001b[0m\u001b[0;32m     14\u001b[0m \u001b[0mprint\u001b[0m\u001b[1;33m(\u001b[0m\u001b[0mmySet\u001b[0m\u001b[1;33m)\u001b[0m\u001b[1;33m\u001b[0m\u001b[0m\n",
      "\u001b[1;31mKeyError\u001b[0m: 4"
     ]
    }
   ],
   "source": [
    "mySet = {1, 2, 3, 4, 5}\n",
    "print(mySet)\n",
    "\n",
    "mySet.discard(5)\n",
    "print(mySet)\n",
    "\n",
    "mySet.discard(5)\n",
    "print(mySet)\n",
    "\n",
    "mySet.remove(4)\n",
    "print(mySet)\n",
    "\n",
    "mySet.remove(4)\n",
    "print(mySet)"
   ]
  },
  {
   "cell_type": "markdown",
   "metadata": {},
   "source": [
    "We can also remove all items from a set using clear(). Example:"
   ]
  },
  {
   "cell_type": "code",
   "execution_count": 39,
   "metadata": {},
   "outputs": [
    {
     "name": "stdout",
     "output_type": "stream",
     "text": [
      "set()\n"
     ]
    }
   ],
   "source": [
    "mySet.clear()\n",
    "print(mySet)"
   ]
  },
  {
   "cell_type": "markdown",
   "metadata": {},
   "source": [
    " #### Set Operations\n",
    " Sets are widely used to carry out mathematical set operations like union, intersection, difference and symmetric difference. We can do this with operators or methods.\n",
    " \n",
    "***Union*** of A and B is a set of all elements from both sets. Union is performed using | operator. Same can be accomplished using the method union()."
   ]
  },
  {
   "cell_type": "code",
   "execution_count": 43,
   "metadata": {},
   "outputs": [
    {
     "name": "stdout",
     "output_type": "stream",
     "text": [
      "{1, 2, 3, 4, 5, 6, 7}\n",
      "{1, 2, 3, 4, 5, 6, 7}\n"
     ]
    }
   ],
   "source": [
    "A = {1, 2, 3, 4, 5}\n",
    "B = {3, 4, 5, 6, 7}\n",
    "\n",
    "print(A | B)\n",
    "print(A.union(B))"
   ]
  },
  {
   "cell_type": "markdown",
   "metadata": {},
   "source": [
    "***Intersection*** of A and B is a set of elements that are common in both sets. Intersection is performed using & operator. Same can be accomplished using the method intersection()."
   ]
  },
  {
   "cell_type": "code",
   "execution_count": 44,
   "metadata": {},
   "outputs": [
    {
     "name": "stdout",
     "output_type": "stream",
     "text": [
      "{1, 2, 3, 4, 5, 6, 7}\n",
      "{3, 4, 5}\n"
     ]
    }
   ],
   "source": [
    "A = {1, 2, 3, 4, 5}\n",
    "B = {3, 4, 5, 6, 7}\n",
    "\n",
    "print(A | B)\n",
    "print(A.intersection(B))"
   ]
  },
  {
   "cell_type": "markdown",
   "metadata": {},
   "source": [
    "***Difference*** of A and Bis a set of elements that are only in A but not in B. Similarly, B - A is a set of element in B but not in A. Difference is performed using - operator. Same can be accomplished using the method difference()."
   ]
  },
  {
   "cell_type": "code",
   "execution_count": 46,
   "metadata": {},
   "outputs": [
    {
     "name": "stdout",
     "output_type": "stream",
     "text": [
      "{1, 2}\n",
      "{1, 2}\n",
      "{6, 7}\n"
     ]
    }
   ],
   "source": [
    "A = {1, 2, 3, 4, 5}\n",
    "B = {3, 4, 5, 6, 7}\n",
    "\n",
    "print(A - B)\n",
    "print(A.difference(B))\n",
    "print(B.difference(A))"
   ]
  },
  {
   "cell_type": "markdown",
   "metadata": {},
   "source": [
    "***Symmetric Difference*** of A and B is a set of all the elements present in both A and B except those that are common in both. Symmetric difference is performed using ^ operator. Same can be accomplished using the method symmetric_difference()."
   ]
  },
  {
   "cell_type": "code",
   "execution_count": 50,
   "metadata": {},
   "outputs": [
    {
     "name": "stdout",
     "output_type": "stream",
     "text": [
      "{1, 2, 6, 7}\n",
      "{1, 2, 6, 7}\n"
     ]
    }
   ],
   "source": [
    "A = {1, 2, 3, 4, 5}\n",
    "B = {3, 4, 5, 6, 7}\n",
    "\n",
    "print(A ^ B)\n",
    "print(A.symmetric_difference(B))"
   ]
  },
  {
   "cell_type": "markdown",
   "metadata": {},
   "source": [
    "## 3. Comparison Operators\n",
    "Just like in anyother programming language, in Python comparison operators are used to compare values. It either returns True or False according to the condition.\n",
    "\n",
    "We have a total of 6 comparison operators (>, <, >=, <=, !=, ==). Examples of these operators are given below:"
   ]
  },
  {
   "cell_type": "code",
   "execution_count": 53,
   "metadata": {},
   "outputs": [
    {
     "name": "stdout",
     "output_type": "stream",
     "text": [
      "x > y  is False\n",
      "x < y  is True\n",
      "x >= y is False\n",
      "x <= y is True\n",
      "x == y is False\n",
      "x != y is True\n"
     ]
    }
   ],
   "source": [
    "x=10\n",
    "y=20\n",
    "\n",
    "print('x > y  is',x>y)\n",
    "\n",
    "print('x < y  is',x<y)\n",
    "\n",
    "print('x >= y is',x>=y)\n",
    "\n",
    "print('x <= y is',x<=y)\n",
    "\n",
    "print('x == y is',x==y)\n",
    "\n",
    "print('x != y is',x!=y)"
   ]
  },
  {
   "cell_type": "markdown",
   "metadata": {},
   "source": [
    "## 4. If-Else Statements\n",
    "Decision making is required when we want to execute a code only if a certain condition is satisfied. The *if*,*elif* and *else* statement is used in Python for decision making. Example:"
   ]
  },
  {
   "cell_type": "code",
   "execution_count": 58,
   "metadata": {
    "scrolled": true
   },
   "outputs": [
    {
     "name": "stdout",
     "output_type": "stream",
     "text": [
      "B is greater\n"
     ]
    }
   ],
   "source": [
    "a=5\n",
    "b=10\n",
    "\n",
    "if(a>b):\n",
    "    print('A is greater')\n",
    "elif(b>a):\n",
    "    print('B is greater')\n",
    "else:\n",
    "    print('Both are equal')"
   ]
  },
  {
   "cell_type": "markdown",
   "metadata": {},
   "source": [
    "## 5. For and While Loop\n",
    "Python has for and while loop for iteration. These are used when we want to perform a specific task repeatedly. Examples give below:"
   ]
  },
  {
   "cell_type": "code",
   "execution_count": 77,
   "metadata": {
    "scrolled": true
   },
   "outputs": [
    {
     "name": "stdout",
     "output_type": "stream",
     "text": [
      "1\n",
      "2\n",
      "3\n",
      "4\n",
      "5\n",
      "6\n",
      " \n",
      "2\n",
      "4\n",
      "6\n"
     ]
    }
   ],
   "source": [
    "# For Loop\n",
    "a=[1,2,3,4,5,6]\n",
    "for x in range (len(a)):\n",
    "    print(a[x])\n",
    "\n",
    "print(' ')\n",
    "for x in range(1, len(a), 2):\n",
    "    print(a[x])"
   ]
  },
  {
   "cell_type": "code",
   "execution_count": 81,
   "metadata": {},
   "outputs": [
    {
     "name": "stdout",
     "output_type": "stream",
     "text": [
      "1\n",
      "2\n",
      "3\n",
      "4\n",
      "5\n",
      "Result Above\n"
     ]
    }
   ],
   "source": [
    "# While Loop\n",
    "count=0\n",
    "while count < 5:\n",
    "    count = count + 1\n",
    "    print(count)\n",
    "else:\n",
    "    print(\"Result Above\")"
   ]
  },
  {
   "cell_type": "markdown",
   "metadata": {},
   "source": [
    "## 6. Functions\n",
    "Functions are a convenient way to divide your code into useful blocks, allowing us to order our code, make it more readable, reuse it and save some time.\n",
    "\n",
    "There are three types of functions in Python:\n",
    "\n",
    "***Built-in functions***, such as min() to get the minimum value, print() to print an object to the terminal,… You can find an overview with more of these functions here.\n",
    "***User-Defined Functions (UDFs)***, functions that users create.\n",
    "***Anonymous functions***, which are also called lambda functions because they are not declared with the standard def keyword."
   ]
  },
  {
   "cell_type": "code",
   "execution_count": 5,
   "metadata": {},
   "outputs": [
    {
     "name": "stdout",
     "output_type": "stream",
     "text": [
      "Data: 23jn4j\n"
     ]
    }
   ],
   "source": [
    "def printFunc(data):\n",
    "    print('Data: '+ data)\n",
    "\n",
    "printFunc('23jn4j');"
   ]
  },
  {
   "cell_type": "markdown",
   "metadata": {},
   "source": [
    "#### Functions vs Methods\n",
    "\"A method refers to a function which is part of a class. You access it with an instance or object of the class. A function doesn’t have this restriction: it just refers to a standalone function. This means that all methods are functions but not all functions are methods.\"\n",
    "\n",
    "Consider the example below, where you first define a function plus() and then a Summation class with a sum() method:"
   ]
  },
  {
   "cell_type": "code",
   "execution_count": 2,
   "metadata": {},
   "outputs": [
    {
     "name": "stdout",
     "output_type": "stream",
     "text": [
      "14\n",
      "6\n"
     ]
    }
   ],
   "source": [
    "def plus(x,y):\n",
    "  return x + y\n",
    "  \n",
    "class Summation(object):\n",
    "  def sum(self, a, b):\n",
    "    return a + b\n",
    "\n",
    "# calling plus() function directly\n",
    "print(plus(5,9))\n",
    "\n",
    "# creating object of class summation and then calling it's function.\n",
    "s=Summation()\n",
    "print(s.sum(4,2))"
   ]
  },
  {
   "cell_type": "markdown",
   "metadata": {},
   "source": [
    "## 7. Lambda Functions\n",
    "Lambda functions are also called anonymous functions.Anonymous function is a function that is defined without a name. Whereas normal functions are defined using the def keyword, in Python lambda functions are defined using the lambda keyword.\n",
    "\n",
    "Lambda functions can have any number of arguments but only one expression. The expression is evaluated and returned. You can assign the function to a variable to give it a name. Example:"
   ]
  },
  {
   "cell_type": "code",
   "execution_count": 16,
   "metadata": {},
   "outputs": [
    {
     "name": "stdout",
     "output_type": "stream",
     "text": [
      "10\n"
     ]
    }
   ],
   "source": [
    "myFunc=lambda a,b:a+b\n",
    "print(myFunc('1','0'))"
   ]
  },
  {
   "cell_type": "code",
   "execution_count": 18,
   "metadata": {},
   "outputs": [
    {
     "name": "stdout",
     "output_type": "stream",
     "text": [
      "10\n"
     ]
    }
   ],
   "source": [
    "myFunc = lambda a: a * 5\n",
    "print(myFunc(2))"
   ]
  },
  {
   "cell_type": "markdown",
   "metadata": {},
   "source": [
    "In Python, we usually use it as an argument to a higher-order function. Lambda functions are used along with built-in functions like filter(), map() etc."
   ]
  },
  {
   "cell_type": "markdown",
   "metadata": {},
   "source": [
    "### 7.1 Map()"
   ]
  },
  {
   "cell_type": "markdown",
   "metadata": {},
   "source": [
    "The map() function in Python takes function and a list (on which the operation will be performed) as its arguments.\n",
    "The function is called with all the items in the list and a new list is returned which contains ***items returned by that function for each item.***. Example:"
   ]
  },
  {
   "cell_type": "code",
   "execution_count": 2,
   "metadata": {},
   "outputs": [
    {
     "name": "stdout",
     "output_type": "stream",
     "text": [
      "[2, 4, 6, 8, 10, 12, 14, 16, 18]\n"
     ]
    }
   ],
   "source": [
    "# double value of every item in a list\n",
    "myList=[1,2,3,4,5,6,7,8,9]\n",
    "myNewList= list(map( lambda x:x*2, myList ))\n",
    "print(myNewList)"
   ]
  },
  {
   "cell_type": "markdown",
   "metadata": {},
   "source": [
    "### 7.2 Filter()\n",
    "The filter() function in Python takes a function (lambda) and a list as arguments.\n",
    "The function is called with all the items in the list and a new list is returned which contains items for which the function evaluats to True. Example:"
   ]
  },
  {
   "cell_type": "code",
   "execution_count": 6,
   "metadata": {},
   "outputs": [
    {
     "name": "stdout",
     "output_type": "stream",
     "text": [
      "[3, 6, 9]\n"
     ]
    }
   ],
   "source": [
    "# find numbers divisible by three from a list\n",
    "myList=[1,2,3,4,5,6,7,8,9]\n",
    "myNewList=list(filter(lambda x:x%3==0, myList))\n",
    "print(myNewList)"
   ]
  },
  {
   "cell_type": "markdown",
   "metadata": {},
   "source": [
    "## 8. File I/O"
   ]
  },
  {
   "cell_type": "markdown",
   "metadata": {},
   "source": [
    "File is a named location on disk to store information. It is used to permanently store data in external memory (e.g. hard drive).\n",
    "\n",
    "In Python, a file operation works in the following order.\n",
    "\n",
    "1. Open file\n",
    "2. Read/write operation\n",
    "3. Close file\n",
    "\n",
    "### 8.1 Opening a file\n",
    "Python has a built-in function open() to open a file. This function returns a file object or a handle, as it is used to read or modify the file. Example:"
   ]
  },
  {
   "cell_type": "code",
   "execution_count": 10,
   "metadata": {},
   "outputs": [],
   "source": [
    "# opening file in current directory\n",
    "myFile=open(\"Untitled.ipynb\")\n",
    "\n",
    "# opening file from a location\n",
    "myFile1=open(\"G:\\Dakuments\\FYP Final Proposal (1).docx\")"
   ]
  },
  {
   "cell_type": "markdown",
   "metadata": {},
   "source": [
    "We can specify the mode while opening a file. In mode, we specify whether we want to read 'r', write 'w' or append 'a' to the file. We also specify if we want to open the file in text mode or binary mode.\n",
    "\n",
    "The default is reading in text mode. In this mode, we get strings when reading from the file.\n",
    "\n",
    "On the other hand, binary mode returns bytes and this is the mode to be used when dealing with non-text files like image or exe files.\n",
    "\n",
    "1. 'r'\tOpen a file for reading. (default)\n",
    "2. 'w'\tOpen a file for writing. Creates a new file if it does not exist or truncates the file if it exists.\n",
    "3. 'x'\tOpen a file for exclusive creation. If the file already exists, the operation fails.\n",
    "4. 'a'\tOpen for appending at the end of the file without truncating it. Creates a new file if it does not exist.\n",
    "5. 't'\tOpen in text mode. (default)\n",
    "6. 'b'\tOpen in binary mode.\n",
    "7. '+'\tOpen a file for updating (reading and writing)\n",
    "\n",
    "We will write these operators as a second parameter of open() function, surrounded by single quotes.\n",
    "Examples given:"
   ]
  },
  {
   "cell_type": "code",
   "execution_count": 34,
   "metadata": {},
   "outputs": [
    {
     "name": "stdout",
     "output_type": "stream",
     "text": [
      "<_io.TextIOWrapper name='G:\\\\Dakuments\\\\FYP Final Proposal (1).docx' mode='r' encoding='cp1252'>\n",
      "<_io.TextIOWrapper name='G:\\\\Dakuments\\\\CreateNewDoc.docx' mode='w' encoding='cp1252'>\n",
      "<_io.BufferedRandom name='G:\\\\Pikchars\\\\graph.bmp'>\n"
     ]
    }
   ],
   "source": [
    "# For opening a file in read mode, specifying is optional as the default mode is also reading.\n",
    "myFile=open(\"G:\\Dakuments\\FYP Final Proposal (1).docx\",'r');\n",
    "print(myFile)\n",
    "\n",
    "# This will create a new file if a file with the same nome does not exist in the directory specified.\n",
    "myFile2=open(\"G:\\Dakuments\\CreateNewDoc.docx\",'w');\n",
    "print(myFile2)\n",
    "\n",
    "# To open the file in read and binary mode\n",
    "myFile3=open(\"G:\\Pikchars\\graph.bmp\",'r+b');\n",
    "print(myFile3)"
   ]
  },
  {
   "cell_type": "markdown",
   "metadata": {},
   "source": [
    "### 8.2 Closing a file\n",
    "When we are done with operations to the file, we need to properly close the file.\n",
    "\n",
    "Closing a file will free up the resources that were tied with the file and is done using Python close() method.\n",
    "\n",
    "Python has a garbage collector to clean up unreferenced objects but, we must not rely on it to close the file.\n",
    "Example:"
   ]
  },
  {
   "cell_type": "code",
   "execution_count": 29,
   "metadata": {},
   "outputs": [],
   "source": [
    "myFile = open(\"G:\\Dakuments\\CreateNewDoc.docx\")\n",
    "myFile.close()"
   ]
  },
  {
   "cell_type": "markdown",
   "metadata": {},
   "source": [
    "A more efficient way of using this close() function is whith using a try...finally block because if an exception occurs when we are performing some operation with the file, the code exits without closing the file. Example:"
   ]
  },
  {
   "cell_type": "code",
   "execution_count": 35,
   "metadata": {},
   "outputs": [],
   "source": [
    "try:\n",
    "   myFile = open(\"G:\\Dakuments\\CreateNewDoc.docx\")\n",
    "finally:\n",
    "   myFile.close()"
   ]
  },
  {
   "cell_type": "markdown",
   "metadata": {},
   "source": [
    "### 8.3 Writing to a file\n",
    "In order to write into a file in Python, we need to open it in write 'w', append 'a' or exclusive creation 'x' mode.\n",
    "\n",
    "We need to be careful with the 'w' mode as it will overwrite into the file if it already exists. All previous data are erased.\n",
    "\n",
    "Writing a string or sequence of bytes (for binary files) is done using write() method. This method returns the number of characters written to the file."
   ]
  },
  {
   "cell_type": "code",
   "execution_count": null,
   "metadata": {},
   "outputs": [],
   "source": []
  }
 ],
 "metadata": {
  "kernelspec": {
   "display_name": "Python 3",
   "language": "python",
   "name": "python3"
  },
  "language_info": {
   "codemirror_mode": {
    "name": "ipython",
    "version": 3
   },
   "file_extension": ".py",
   "mimetype": "text/x-python",
   "name": "python",
   "nbconvert_exporter": "python",
   "pygments_lexer": "ipython3",
   "version": "3.6.5"
  }
 },
 "nbformat": 4,
 "nbformat_minor": 2
}
